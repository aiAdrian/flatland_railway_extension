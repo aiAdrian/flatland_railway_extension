{
  "nbformat": 4,
  "nbformat_minor": 0,
  "metadata": {
    "colab": {
      "provenance": [],
      "authorship_tag": "ABX9TyOscrV7l5COVVC13Aosw54g",
      "include_colab_link": true
    },
    "kernelspec": {
      "name": "python3",
      "display_name": "Python 3"
    },
    "language_info": {
      "name": "python"
    }
  },
  "cells": [
    {
      "cell_type": "markdown",
      "metadata": {
        "id": "view-in-github",
        "colab_type": "text"
      },
      "source": [
        "<a href=\"https://colab.research.google.com/github/aiAdrian/flatland_railway_extension/blob/master/Flatland_Dynamics.ipynb\" target=\"_parent\"><img src=\"https://colab.research.google.com/assets/colab-badge.svg\" alt=\"Open In Colab\"/></a>"
      ]
    },
    {
      "cell_type": "markdown",
      "source": [
        "## 🚂 The Flatland Dynamics Demo\n",
        "\n",
        "Flatland Extension code base:\n",
        "https://github.com/aiAdrian/flatland_railway_extension/blob/master/flatland_extensions/environment_extensions\n",
        " "
      ],
      "metadata": {
        "id": "BAWN2Z5a76cU"
      }
    },
    {
      "cell_type": "code",
      "execution_count": 1,
      "metadata": {
        "id": "xZhLXJaa75Ck"
      },
      "outputs": [],
      "source": [
        "from IPython.display import clear_output \n",
        "clear_output()"
      ]
    },
    {
      "cell_type": "code",
      "source": [
        "!git clone http://gitlab.aicrowd.com/flatland/flatland.git\n",
        "%cd flatland\n",
        "!git pull\n",
        "%cd ..\n",
        "!pip install -r /content/flatland/requirements_dev.txt &> /dev/null"
      ],
      "metadata": {
        "colab": {
          "base_uri": "https://localhost:8080/"
        },
        "id": "4xeQFO1K8HzK",
        "outputId": "4df5d3bd-d756-4117-aa3f-01c1b399068c"
      },
      "execution_count": null,
      "outputs": [
        {
          "output_type": "stream",
          "name": "stdout",
          "text": [
            "Cloning into 'flatland'...\n",
            "remote: Enumerating objects: 17135, done.\u001b[K\n",
            "remote: Counting objects: 100% (103/103), done.\u001b[K\n",
            "remote: Compressing objects: 100% (65/65), done.\u001b[K\n",
            "remote: Total 17135 (delta 59), reused 69 (delta 38), pack-reused 17032\u001b[K\n",
            "Receiving objects: 100% (17135/17135), 53.27 MiB | 9.86 MiB/s, done.\n",
            "Resolving deltas: 100% (12853/12853), done.\n",
            "/content/flatland\n",
            "Already up to date.\n",
            "/content\n"
          ]
        }
      ]
    },
    {
      "cell_type": "code",
      "source": [
        "!git clone https://github.com/aiAdrian/flatland_railway_extension.git/\n",
        "%cd flatland_railway_extension\n",
        "!git pull\n",
        "%cd .."
      ],
      "metadata": {
        "id": "jl-BW9Gp8H2J"
      },
      "execution_count": null,
      "outputs": []
    },
    {
      "cell_type": "code",
      "source": [
        "import os\n",
        "import sys\n",
        "os.environ['PYTHONPATH'] = \"/env/python:/content/flatland:/content/flatland_railway_extension\"\n",
        "if \"/content/flatland\" not in sys.path:\n",
        "  sys.path.insert(1, \"/content/flatland\")\n",
        "if \"/content/flatland_railway_extension\" not in sys.path:\n",
        "  sys.path.insert(1, \"/content/flatland_railway_extension\")"
      ],
      "metadata": {
        "id": "t2Q-U0oZ8H5J"
      },
      "execution_count": null,
      "outputs": []
    },
    {
      "cell_type": "code",
      "source": [
        "# import all flatland dependance\n",
        "import time\n",
        "import PIL\n",
        "from IPython.display import display\n",
        "\n",
        "from flatland.utils.rendertools import RenderTool\n",
        "from flatland.envs.rail_env_action import RailEnvActions\n",
        "\n",
        "import numpy as np\n",
        "from flatland.envs.rail_env import RailEnv\n",
        "from flatland.envs.rail_env_action import RailEnvActions\n",
        "\n",
        "from flatland_railway_extension.FlatlandEnvironmentHelper import FlatlandEnvironmentHelper\n",
        "from flatland_railway_extension.RailroadSwitchAnalyser import RailroadSwitchAnalyser\n",
        "from flatland_railway_extension.RailroadSwitchCluster import RailroadSwitchCluster\n",
        "from flatland_railway_extension.environments.FlatlandDynamics import FlatlandDynamics\n",
        "from flatland_railway_extension.environments.FlatlandResourceAllocator import FlatlandResourceAllocator\n",
        "from flatland_railway_extension.environments.InfrastructureData import InfrastructureData\n",
        "from flatland_railway_extension.utils.FlatlandDynamicsRenderer import FlatlandDynamicsRenderer\n",
        "from flatland_railway_extension.environments.DynamicAgent import DynamicAgent"
      ],
      "metadata": {
        "id": "bPZJl0vH8H8R"
      },
      "execution_count": null,
      "outputs": []
    },
    {
      "cell_type": "code",
      "source": [
        "def render_env(flatland_renderer):\n",
        "    flatland_renderer.render(show=False, show_observations=True, disable_background_rendering=True)\n",
        "    image = flatland_renderer.env_renderer.get_image()\n",
        "    pil_image = PIL.Image.fromarray(image)\n",
        "    display(pil_image)"
      ],
      "metadata": {
        "id": "Mdi5JpWn8bpM"
      },
      "execution_count": null,
      "outputs": []
    },
    {
      "cell_type": "code",
      "source": [
        "def create_infrastructure_data(env: RailEnv, railroad_switch_analyser : RailroadSwitchAnalyser) -> InfrastructureData:\n",
        "    infrastructure_data = InfrastructureData()\n",
        "    cell_length_grid = np.ones((env.height, env.width)) * 400\n",
        "    gradient_grid = np.zeros((env.height, env.width))\n",
        "    velocity_grid = np.ones((env.height, env.width)) * 100\n",
        "    for key in railroad_switch_analyser.railroad_switch_neighbours.keys():\n",
        "        velocity_grid[key] = 80\n",
        "    for key in railroad_switch_analyser.railroad_switches.keys():\n",
        "        velocity_grid[key] = 60\n",
        "    infrastructure_data.set_infrastructure_max_velocity_grid(velocity_grid / 3.6)\n",
        "    infrastructure_data.set_infrastructure_cell_length_grid(cell_length_grid)\n",
        "    infrastructure_data.set_infrastructure_gradient_grid(gradient_grid)\n",
        "    return infrastructure_data"
      ],
      "metadata": {
        "id": "mmVciz0e8g8T"
      },
      "execution_count": null,
      "outputs": []
    },
    {
      "cell_type": "code",
      "source": [
        "def map_infrastructure_data(env: RailEnv, railroad_switch_analyser: RailroadSwitchAnalyser):\n",
        "    # Create a test infrastructure\n",
        "    # ---------------------------------------------------------------------------------------------------------------\n",
        "    # share the infrastructure with the agents ( train runs)\n",
        "    for agent in env.agents:\n",
        "        if isinstance(agent, DynamicAgent):\n",
        "            agent.set_infrastructure_data(\n",
        "                create_infrastructure_data(env, railroad_switch_analyser)\n",
        "            )\n",
        "            agent.rolling_stock.set_max_braking_acceleration(-0.15)\n",
        "            agent.set_mass(500)\n",
        "            agent.set_tractive_effort_rendering(False)\n",
        "    if isinstance(env, FlatlandDynamics):\n",
        "        env.set_infrastructure_data(create_infrastructure_data(env, railroad_switch_analyser))"
      ],
      "metadata": {
        "id": "wW2Z2Zu9g06t"
      },
      "execution_count": null,
      "outputs": []
    },
    {
      "cell_type": "code",
      "source": [
        "def run_simulation(flatland_environment_helper, railroad_switch_cluster, railroad_switch_analyser):\n",
        "  env = flatland_environment_helper.get_rail_env()\n",
        "  observations, info = env.reset()\n",
        "\n",
        "  flatland_renderer = FlatlandDynamicsRenderer(env=env,\n",
        "                                              show_debug=True,\n",
        "                                              show_agents=False)\n",
        "\n",
        "  \n",
        "  map_infrastructure_data(env=env,\n",
        "                          railroad_switch_analyser=railroad_switch_analyser)\n",
        "\n",
        "    \n",
        "  flatland_resource_allocator = FlatlandResourceAllocator(env)\n",
        "  flatland_resource_allocator.set_minimal_free_time_to_reallocate_other_agent(120)\n",
        "\n",
        "  for step in range(1201):\n",
        "      flatland_renderer.set_flatland_resource_allocator(flatland_resource_allocator)\n",
        "      flatland_environment_helper.get_rail_env().activate_flatland_resource_allocator(flatland_resource_allocator)\n",
        "      flatland_environment_helper.get_rail_env().activate_railroad_switch_cluster_locking(railroad_switch_cluster)\n",
        "\n",
        "      actions = {}\n",
        "      for agent_handle in flatland_environment_helper.get_rail_env().get_agent_handles():\n",
        "          obs = observations[agent_handle]\n",
        "          actions.update({agent_handle: RailEnvActions(obs[0])})\n",
        "\n",
        "      observations, all_rewards, dones, info = env.step(actions)\n",
        "      \n",
        "      if step % 1200 == 0 and step >0:\n",
        "        render_env(flatland_renderer)\n",
        "\n",
        "      if dones[\"__all__\"]:\n",
        "          break  "
      ],
      "metadata": {
        "id": "3kuLFZrT8cOH"
      },
      "execution_count": null,
      "outputs": []
    },
    {
      "cell_type": "code",
      "source": [
        "flatland_environment_helper = FlatlandEnvironmentHelper(rail_env=FlatlandDynamics, random_seed=2341)\n",
        "railroad_switch_analyser = RailroadSwitchAnalyser(env=flatland_environment_helper.get_rail_env())\n",
        "railroad_switch_cluster = RailroadSwitchCluster(railroad_switch_analyser=railroad_switch_analyser)"
      ],
      "metadata": {
        "id": "NF8yul2b8eTG"
      },
      "execution_count": null,
      "outputs": []
    },
    {
      "cell_type": "code",
      "source": [
        "run_simulation(flatland_environment_helper, railroad_switch_cluster, railroad_switch_analyser)"
      ],
      "metadata": {
        "id": "R6Hsf32_9tYS"
      },
      "execution_count": null,
      "outputs": []
    },
    {
      "cell_type": "code",
      "source": [
        "import matplotlib as mpl\n",
        "import matplotlib.pyplot as plt\n",
        "plt.rcParams['figure.dpi'] = 100\n",
        "plt.rcParams['figure.figsize'] = [30, 3]\n",
        "a3 = flatland_environment_helper.get_rail_env().agents[3]\n",
        "a3.set_tractive_effort_rendering(True)\n",
        "a3.do_debug_plot(1, 1, True)\n",
        "a3.set_tractive_effort_rendering(False)"
      ],
      "metadata": {
        "id": "3zJD2aAs-B_e"
      },
      "execution_count": null,
      "outputs": []
    },
    {
      "cell_type": "code",
      "source": [
        "plt.plot(a3.distance_reservation_point_simulation_data, a3.velocity_agent_tp_simulation_data)"
      ],
      "metadata": {
        "id": "XrTMB6Xog3l9"
      },
      "execution_count": null,
      "outputs": []
    },
    {
      "cell_type": "code",
      "source": [
        "import matplotlib.pylab as plt\n",
        "plt.rcParams['figure.dpi'] = 100\n",
        "plt.rcParams['figure.figsize'] = [30, 18]\n",
        "for i_agent, agent in enumerate(flatland_environment_helper.get_rail_env().agents):\n",
        "        n_agents = flatland_environment_helper.get_rail_env().get_num_agents()\n",
        "        show = i_agent + 1 == n_agents\n",
        "        agent.do_debug_plot(i_agent + 1, n_agents, show, i_agent==0)\n"
      ],
      "metadata": {
        "id": "Gnc2oS9g-JqE"
      },
      "execution_count": null,
      "outputs": []
    },
    {
      "cell_type": "markdown",
      "source": [
        "Author: Adrian Egli"
      ],
      "metadata": {
        "id": "59jfGD9aA-GU"
      }
    }
  ]
}