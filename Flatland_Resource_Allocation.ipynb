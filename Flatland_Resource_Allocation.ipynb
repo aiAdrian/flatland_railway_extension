{
  "nbformat": 4,
  "nbformat_minor": 0,
  "metadata": {
    "colab": {
      "name": "Flatland_Resource Allocation.ipynb",
      "provenance": [],
      "collapsed_sections": [],
      "authorship_tag": "ABX9TyMQY+ieD++MtReJRn8hjQet",
      "include_colab_link": true
    },
    "kernelspec": {
      "name": "python3",
      "display_name": "Python 3"
    },
    "language_info": {
      "name": "python"
    },
    "widgets": {
      "application/vnd.jupyter.widget-state+json": {
        "bbfd9c9c664046f3a7e23d2f69f4320f": {
          "model_module": "@jupyter-widgets/controls",
          "model_name": "ImageModel",
          "model_module_version": "1.5.0",
          "state": {
            "_dom_classes": [],
            "_model_module": "@jupyter-widgets/controls",
            "_model_module_version": "1.5.0",
            "_model_name": "ImageModel",
            "_view_count": null,
            "_view_module": "@jupyter-widgets/controls",
            "_view_module_version": "1.5.0",
            "_view_name": "ImageView",
            "format": "png",
            "height": "",
            "layout": "IPY_MODEL_5f5304b01bab4f1a9100935bcf2a75a6",
            "width": ""
          }
        },
        "5f5304b01bab4f1a9100935bcf2a75a6": {
          "model_module": "@jupyter-widgets/base",
          "model_name": "LayoutModel",
          "model_module_version": "1.2.0",
          "state": {
            "_model_module": "@jupyter-widgets/base",
            "_model_module_version": "1.2.0",
            "_model_name": "LayoutModel",
            "_view_count": null,
            "_view_module": "@jupyter-widgets/base",
            "_view_module_version": "1.2.0",
            "_view_name": "LayoutView",
            "align_content": null,
            "align_items": null,
            "align_self": null,
            "border": null,
            "bottom": null,
            "display": null,
            "flex": null,
            "flex_flow": null,
            "grid_area": null,
            "grid_auto_columns": null,
            "grid_auto_flow": null,
            "grid_auto_rows": null,
            "grid_column": null,
            "grid_gap": null,
            "grid_row": null,
            "grid_template_areas": null,
            "grid_template_columns": null,
            "grid_template_rows": null,
            "height": null,
            "justify_content": null,
            "justify_items": null,
            "left": null,
            "margin": null,
            "max_height": null,
            "max_width": null,
            "min_height": null,
            "min_width": null,
            "object_fit": null,
            "object_position": null,
            "order": null,
            "overflow": null,
            "overflow_x": null,
            "overflow_y": null,
            "padding": null,
            "right": null,
            "top": null,
            "visibility": null,
            "width": null
          }
        }
      }
    }
  },
  "cells": [
    {
      "cell_type": "markdown",
      "metadata": {
        "id": "view-in-github",
        "colab_type": "text"
      },
      "source": [
        "<a href=\"https://colab.research.google.com/github/aiAdrian/flatland_railway_extension/blob/master/Flatland_Resource_Allocation.ipynb\" target=\"_parent\"><img src=\"https://colab.research.google.com/assets/colab-badge.svg\" alt=\"Open In Colab\"/></a>"
      ]
    },
    {
      "cell_type": "markdown",
      "source": [
        "## 🚂 The Flatland Resource Allocation Demo\n",
        "\n",
        "Flatland Extension code base:\n",
        "https://github.com/aiAdrian/flatland_railway_extension/tree/master/flatland_extensions \n",
        " "
      ],
      "metadata": {
        "id": "i1FiCYEePHXT"
      }
    },
    {
      "cell_type": "code",
      "source": [
        "from IPython.display import clear_output \n",
        "clear_output()"
      ],
      "metadata": {
        "id": "VD-RnzDIULA0"
      },
      "execution_count": 1,
      "outputs": []
    },
    {
      "cell_type": "code",
      "source": [
        "!git clone http://gitlab.aicrowd.com/flatland/flatland.git\n",
        "%cd flatland\n",
        "!git pull\n",
        "%cd ..\n",
        "!pip install -r /content/flatland/requirements_dev.txt &> /dev/null"
      ],
      "metadata": {
        "colab": {
          "base_uri": "https://localhost:8080/"
        },
        "id": "QbpX24xtZOp1",
        "outputId": "b1edaf54-b59a-4307-f672-6da5787060ad"
      },
      "execution_count": 2,
      "outputs": [
        {
          "output_type": "stream",
          "name": "stdout",
          "text": [
            "Cloning into 'flatland'...\n",
            "remote: Enumerating objects: 17027, done.\u001b[K\n",
            "remote: Counting objects: 100% (565/565), done.\u001b[K\n",
            "remote: Compressing objects: 100% (212/212), done.\u001b[K\n",
            "remote: Total 17027 (delta 398), reused 512 (delta 352), pack-reused 16462\u001b[K\n",
            "Receiving objects: 100% (17027/17027), 55.25 MiB | 18.50 MiB/s, done.\n",
            "Resolving deltas: 100% (12737/12737), done.\n",
            "/content/flatland\n",
            "Already up to date.\n",
            "/content\n"
          ]
        }
      ]
    },
    {
      "cell_type": "code",
      "source": [
        "!git clone https://github.com/aiAdrian/flatland_railway_extension.git/\n",
        "%cd flatland_railway_extension\n",
        "!git pull\n",
        "%cd .."
      ],
      "metadata": {
        "colab": {
          "base_uri": "https://localhost:8080/"
        },
        "id": "O1JG7yw-fs29",
        "outputId": "6acba256-c38a-491a-dc82-e7827053296c"
      },
      "execution_count": 3,
      "outputs": [
        {
          "output_type": "stream",
          "name": "stdout",
          "text": [
            "Cloning into 'flatland_railway_extension'...\n",
            "remote: Enumerating objects: 202, done.\u001b[K\n",
            "remote: Counting objects: 100% (18/18), done.\u001b[K\n",
            "remote: Compressing objects: 100% (14/14), done.\u001b[K\n",
            "remote: Total 202 (delta 12), reused 4 (delta 4), pack-reused 184\u001b[K\n",
            "Receiving objects: 100% (202/202), 5.28 MiB | 19.02 MiB/s, done.\n",
            "Resolving deltas: 100% (129/129), done.\n",
            "/content/flatland_railway_extension\n",
            "Already up to date.\n",
            "/content\n"
          ]
        }
      ]
    },
    {
      "cell_type": "code",
      "source": [
        "import os\n",
        "import sys\n",
        "os.environ['PYTHONPATH'] = \"/env/python:/content/flatland:/content/flatland_railway_extension\"\n",
        "if \"/content/flatland\" not in sys.path:\n",
        "  sys.path.insert(1, \"/content/flatland\")\n",
        "if \"/content/flatland_railway_extension\" not in sys.path:\n",
        "  sys.path.insert(1, \"/content/flatland_railway_extension\")"
      ],
      "metadata": {
        "id": "1IlUkLcVXmaR"
      },
      "execution_count": 4,
      "outputs": []
    },
    {
      "cell_type": "code",
      "source": [
        "# import all flatland dependance\n",
        "import time\n",
        "import PIL\n",
        "from IPython.display import display\n",
        "\n",
        "from flatland.utils.rendertools import RenderTool\n",
        "from flatland.envs.rail_env_action import RailEnvActions\n",
        "\n",
        "# import all flatland extensions \n",
        "from flatland_extensions.FlatlandEnvironmentHelper import FlatlandEnvironmentHelper\n",
        "from flatland_extensions.RailroadSwitchAnalyser import RailroadSwitchAnalyser\n",
        "from flatland_extensions.RailroadSwitchCluster import RailroadSwitchCluster\n",
        "from flatland_extensions.environment_extensions.FlatlandResourceAllocator import FlatlandResourceAllocator"
      ],
      "metadata": {
        "id": "xx0S4VaFiv58"
      },
      "execution_count": 5,
      "outputs": []
    },
    {
      "cell_type": "code",
      "source": [
        "from io import BytesIO\n",
        "import ipywidgets as ipw\n",
        "from IPython import display\n",
        "\n",
        "def render_env(env_renderer, image_widget):\n",
        "    env_renderer.render_env()\n",
        "\n",
        "    image = env_renderer.get_image()\n",
        "    pil_image = PIL.Image.fromarray(image, mode=\"RGBA\")\n",
        "     \n",
        "    with BytesIO() as file_out_png:\n",
        "      pil_image.save(file_out_png, format=\"png\")\n",
        "      by_png = file_out_png.getvalue()\n",
        "    image_widget.value=by_png\n",
        "    time.sleep(1/60)"
      ],
      "metadata": {
        "id": "c8AnSTVeZ40X"
      },
      "execution_count": 6,
      "outputs": []
    },
    {
      "cell_type": "code",
      "source": [
        " def run_simulation(flatland_environment_helper, railroad_switch_cluster):\n",
        "    clear_output()\n",
        "    env = flatland_environment_helper.get_rail_env()\n",
        "    observations, info = env.reset()\n",
        "\n",
        "    image_widget = ipw.Image()\n",
        "    display.display(image_widget)\n",
        "\n",
        "    env_renderer = RenderTool(env, gl=\"PILSVG\")\n",
        "    for step in range(1000):\n",
        "\n",
        "        flatland_resource_allocator = FlatlandResourceAllocator(env=flatland_environment_helper.get_rail_env())\n",
        "        flatland_environment_helper.get_rail_env().activate_flatland_resource_allocator(flatland_resource_allocator)\n",
        "        flatland_environment_helper.get_rail_env().activate_railroad_switch_cluster_locking(railroad_switch_cluster)\n",
        "\n",
        "        actions = {}\n",
        "        for agent_handle in flatland_environment_helper.get_rail_env().get_agent_handles():\n",
        "            obs = observations[agent_handle]\n",
        "            actions.update({agent_handle: RailEnvActions(obs[0])})\n",
        "\n",
        "        observations, all_rewards, dones, info = env.step(actions)\n",
        "\n",
        "        for agent_handle in flatland_environment_helper.get_rail_env().get_agent_handles():\n",
        "            env = flatland_environment_helper.get_rail_env()\n",
        "            env.dev_obs_dict.update(\n",
        "                {agent_handle: flatland_resource_allocator.get_assigned_resources(agent_handle=agent_handle)})\n",
        "            \n",
        "        render_env(env_renderer,image_widget)\n",
        " \n",
        "        if dones[\"__all__\"]:\n",
        "            break  "
      ],
      "metadata": {
        "id": "SOAofr92Zwy3"
      },
      "execution_count": 7,
      "outputs": []
    },
    {
      "cell_type": "code",
      "source": [
        "flatland_environment_helper = FlatlandEnvironmentHelper(random_seed=2341)\n",
        "railroad_switch_analyser = RailroadSwitchAnalyser(env=flatland_environment_helper.get_rail_env())\n",
        "railroad_switch_cluster = RailroadSwitchCluster(railroad_switch_analyser=railroad_switch_analyser)\n",
        "\n",
        "run_simulation(flatland_environment_helper, railroad_switch_cluster)"
      ],
      "metadata": {
        "id": "28YZrMKybTto",
        "outputId": "6cb9de00-a6ef-4bf4-a590-8633f0c1259a",
        "colab": {
          "base_uri": "https://localhost:8080/",
          "height": 549,
          "referenced_widgets": [
            "bbfd9c9c664046f3a7e23d2f69f4320f",
            "5f5304b01bab4f1a9100935bcf2a75a6"
          ]
        }
      },
      "execution_count": 8,
      "outputs": [
        {
          "output_type": "display_data",
          "data": {
            "text/plain": [
              "Image(value=b'')"
            ],
            "application/vnd.jupyter.widget-view+json": {
              "version_major": 2,
              "version_minor": 0,
              "model_id": "bbfd9c9c664046f3a7e23d2f69f4320f"
            }
          },
          "metadata": {}
        }
      ]
    },
    {
      "cell_type": "markdown",
      "source": [
        "Author: Adrian Egli"
      ],
      "metadata": {
        "id": "IUpVuIi74o4R"
      }
    }
  ]
}